{
 "cells": [
  {
   "cell_type": "code",
   "execution_count": null,
   "id": "9568066c-be86-476d-8162-08b8aaf8c780",
   "metadata": {},
   "outputs": [],
   "source": [
    "# Requirements\n",
    "# 1. Create a class called magic_8ball\n",
    "# 2. Answer a user's yes/no question (from input) with one of ten answers (balance yes and no options)\n",
    "# 3. Store number of times each response has been given\n",
    "# 4. Add a method 'response_details()' which returns how many times the 8 ball has been used and the data from #3"
   ]
  },
  {
   "cell_type": "code",
   "execution_count": 11,
   "id": "b4b40a6e-17bb-47cf-a0a6-e64ac0565c78",
   "metadata": {},
   "outputs": [
    {
     "name": "stdin",
     "output_type": "stream",
     "text": [
      "What question would you like to ask the Magic 8 Ball?\n",
      "Enter nothing to stop, or enter '#' to see the number of responses. \n"
     ]
    },
    {
     "name": "stdout",
     "output_type": "stream",
     "text": [
      "I hope you found the answers you wanted. Goodbye.\n"
     ]
    }
   ],
   "source": [
    "from random import randint\n",
    "\n",
    "class Magic_8Ball():\n",
    "    def __init__(self):\n",
    "        self.question = \"\"\n",
    "        self.responses = [[\"It is certain\", 0], [\"Without a doubt\", 0], [\"Outlook good\", 0], [\"Signs point to yes\", 0], [\"Better not tell you now\", 0], [\"Reply hazy, try again\", 0], [\"Don't count on it\", 0], [\"My sources say no\", 0], [\"Outlook not so good\", 0], [\"Very doubtful\", 0]]\n",
    "        self.times_used, self.rand_index = 0, 0\n",
    "        self.loop_flag = True\n",
    "\n",
    "    def ask_question(self):\n",
    "        self.question = input(\"What question would you like to ask the Magic 8 Ball?\\nEnter nothing to stop, or enter '#' to see the number of responses.\")\n",
    "        \n",
    "    def answer_question(self, question):\n",
    "        self.rand_index = randint(0, 9)\n",
    "        print(f'The answer to your question is...{self.responses[self.rand_index][0]}.')\n",
    "        self.times_used += 1\n",
    "        self.responses[self.rand_index][1] += 1\n",
    "\n",
    "    def response_details(self):\n",
    "        print(f'Your current number of questions asked is {self.times_used}.')\n",
    "        for list in self.responses:\n",
    "            print(\"You received this answer this many times: \", list)\n",
    "\n",
    "    def use_Magic_8Ball(self):\n",
    "        while self.loop_flag == True:\n",
    "            Magic_8Ball.ask_question(self)\n",
    "            if self.question == \"\":\n",
    "                print(\"I hope you found the answers you wanted. Goodbye.\")\n",
    "                self.loop_flag = False\n",
    "            elif self.question == \"#\":\n",
    "                Magic_8Ball.response_details(self)\n",
    "            else:\n",
    "                Magic_8Ball.answer_question(self, self.question)\n",
    "\n",
    "my8ball = Magic_8Ball()\n",
    "my8ball.use_Magic_8Ball()"
   ]
  },
  {
   "cell_type": "code",
   "execution_count": null,
   "id": "127dc310-3d73-4bc8-b166-307c39cce829",
   "metadata": {},
   "outputs": [],
   "source": []
  }
 ],
 "metadata": {
  "kernelspec": {
   "display_name": "Python 3 (ipykernel)",
   "language": "python",
   "name": "python3"
  },
  "language_info": {
   "codemirror_mode": {
    "name": "ipython",
    "version": 3
   },
   "file_extension": ".py",
   "mimetype": "text/x-python",
   "name": "python",
   "nbconvert_exporter": "python",
   "pygments_lexer": "ipython3",
   "version": "3.12.4"
  }
 },
 "nbformat": 4,
 "nbformat_minor": 5
}
